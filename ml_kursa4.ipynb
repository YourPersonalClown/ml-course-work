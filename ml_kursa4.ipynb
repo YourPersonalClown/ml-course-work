{
 "cells": [
  {
   "cell_type": "code",
   "execution_count": 226,
   "metadata": {},
   "outputs": [],
   "source": [
    "import pandas as pd\n",
    "from sklearn import *\n",
    "from imblearn.over_sampling import SMOTE\n",
    "from catboost import CatBoostClassifier, Pool\n",
    "import numpy as np\n",
    "from yellowbrick.classifier import ConfusionMatrix\n",
    "from sklearn.metrics import confusion_matrix, ConfusionMatrixDisplay\n",
    "# from sklearn.metrics import f1_score as sk_f1_score\n",
    "import matplotlib.pyplot as plt"
   ]
  },
  {
   "attachments": {},
   "cell_type": "markdown",
   "metadata": {},
   "source": [
    "чтение данных"
   ]
  },
  {
   "cell_type": "code",
   "execution_count": 227,
   "metadata": {},
   "outputs": [],
   "source": [
    "df = pd.read_csv('feature_data_new_mini.csv', low_memory=False)\n",
    "goal = pd.read_csv('goal_cipher.csv')"
   ]
  },
  {
   "cell_type": "code",
   "execution_count": 228,
   "metadata": {},
   "outputs": [
    {
     "data": {
      "text/html": [
       "<div>\n",
       "<style scoped>\n",
       "    .dataframe tbody tr th:only-of-type {\n",
       "        vertical-align: middle;\n",
       "    }\n",
       "\n",
       "    .dataframe tbody tr th {\n",
       "        vertical-align: top;\n",
       "    }\n",
       "\n",
       "    .dataframe thead th {\n",
       "        text-align: right;\n",
       "    }\n",
       "</style>\n",
       "<table border=\"1\" class=\"dataframe\">\n",
       "  <thead>\n",
       "    <tr style=\"text-align: right;\">\n",
       "      <th></th>\n",
       "      <th>ser_loc</th>\n",
       "      <th>zns_loc</th>\n",
       "      <th>prs_loc</th>\n",
       "      <th>year_month</th>\n",
       "      <th>count_fail</th>\n",
       "      <th>107_repair_count</th>\n",
       "      <th>307_repair_count</th>\n",
       "      <th>308_repair_count</th>\n",
       "      <th>309_repair_count</th>\n",
       "      <th>521_repair_count</th>\n",
       "      <th>...</th>\n",
       "      <th>тл-2к_y</th>\n",
       "      <th>тл-2к1</th>\n",
       "      <th>эд118а</th>\n",
       "      <th>эд118б</th>\n",
       "      <th>эдп810</th>\n",
       "      <th>эк-810ч</th>\n",
       "      <th>экг-8ж</th>\n",
       "      <th>power</th>\n",
       "      <th>last_of_p_data</th>\n",
       "      <th>last_of_in_invent</th>\n",
       "    </tr>\n",
       "  </thead>\n",
       "  <tbody>\n",
       "    <tr>\n",
       "      <th>0</th>\n",
       "      <td>107</td>\n",
       "      <td>3.0</td>\n",
       "      <td>1.0</td>\n",
       "      <td>2020-01-28</td>\n",
       "      <td>1.0</td>\n",
       "      <td>0.0</td>\n",
       "      <td>0.0</td>\n",
       "      <td>0.0</td>\n",
       "      <td>0.0</td>\n",
       "      <td>0.0</td>\n",
       "      <td>...</td>\n",
       "      <td>0.0</td>\n",
       "      <td>0.0</td>\n",
       "      <td>0.0</td>\n",
       "      <td>0.0</td>\n",
       "      <td>0.0</td>\n",
       "      <td>0.0</td>\n",
       "      <td>0.0</td>\n",
       "      <td>3250.0</td>\n",
       "      <td>0.0</td>\n",
       "      <td>0.0</td>\n",
       "    </tr>\n",
       "    <tr>\n",
       "      <th>1</th>\n",
       "      <td>107</td>\n",
       "      <td>3.0</td>\n",
       "      <td>1.0</td>\n",
       "      <td>2019-03-28</td>\n",
       "      <td>1.0</td>\n",
       "      <td>0.0</td>\n",
       "      <td>0.0</td>\n",
       "      <td>0.0</td>\n",
       "      <td>0.0</td>\n",
       "      <td>0.0</td>\n",
       "      <td>...</td>\n",
       "      <td>0.0</td>\n",
       "      <td>0.0</td>\n",
       "      <td>0.0</td>\n",
       "      <td>0.0</td>\n",
       "      <td>0.0</td>\n",
       "      <td>0.0</td>\n",
       "      <td>0.0</td>\n",
       "      <td>3250.0</td>\n",
       "      <td>0.0</td>\n",
       "      <td>0.0</td>\n",
       "    </tr>\n",
       "    <tr>\n",
       "      <th>2</th>\n",
       "      <td>107</td>\n",
       "      <td>4.0</td>\n",
       "      <td>1.0</td>\n",
       "      <td>2020-04-28</td>\n",
       "      <td>1.0</td>\n",
       "      <td>0.0</td>\n",
       "      <td>0.0</td>\n",
       "      <td>0.0</td>\n",
       "      <td>0.0</td>\n",
       "      <td>0.0</td>\n",
       "      <td>...</td>\n",
       "      <td>0.0</td>\n",
       "      <td>0.0</td>\n",
       "      <td>0.0</td>\n",
       "      <td>0.0</td>\n",
       "      <td>0.0</td>\n",
       "      <td>0.0</td>\n",
       "      <td>0.0</td>\n",
       "      <td>3080.0</td>\n",
       "      <td>0.0</td>\n",
       "      <td>0.0</td>\n",
       "    </tr>\n",
       "    <tr>\n",
       "      <th>3</th>\n",
       "      <td>107</td>\n",
       "      <td>4.0</td>\n",
       "      <td>1.0</td>\n",
       "      <td>2020-06-28</td>\n",
       "      <td>1.0</td>\n",
       "      <td>0.0</td>\n",
       "      <td>0.0</td>\n",
       "      <td>0.0</td>\n",
       "      <td>0.0</td>\n",
       "      <td>0.0</td>\n",
       "      <td>...</td>\n",
       "      <td>0.0</td>\n",
       "      <td>0.0</td>\n",
       "      <td>0.0</td>\n",
       "      <td>0.0</td>\n",
       "      <td>0.0</td>\n",
       "      <td>0.0</td>\n",
       "      <td>0.0</td>\n",
       "      <td>3080.0</td>\n",
       "      <td>6.0</td>\n",
       "      <td>6.0</td>\n",
       "    </tr>\n",
       "    <tr>\n",
       "      <th>4</th>\n",
       "      <td>107</td>\n",
       "      <td>4.0</td>\n",
       "      <td>1.0</td>\n",
       "      <td>2020-07-28</td>\n",
       "      <td>1.0</td>\n",
       "      <td>0.0</td>\n",
       "      <td>0.0</td>\n",
       "      <td>1.0</td>\n",
       "      <td>0.0</td>\n",
       "      <td>0.0</td>\n",
       "      <td>...</td>\n",
       "      <td>0.0</td>\n",
       "      <td>0.0</td>\n",
       "      <td>0.0</td>\n",
       "      <td>0.0</td>\n",
       "      <td>0.0</td>\n",
       "      <td>0.0</td>\n",
       "      <td>0.0</td>\n",
       "      <td>3080.0</td>\n",
       "      <td>10.0</td>\n",
       "      <td>10.0</td>\n",
       "    </tr>\n",
       "  </tbody>\n",
       "</table>\n",
       "<p>5 rows × 249 columns</p>\n",
       "</div>"
      ],
      "text/plain": [
       "   ser_loc  zns_loc  prs_loc  year_month  count_fail  107_repair_count  \\\n",
       "0      107      3.0      1.0  2020-01-28         1.0               0.0   \n",
       "1      107      3.0      1.0  2019-03-28         1.0               0.0   \n",
       "2      107      4.0      1.0  2020-04-28         1.0               0.0   \n",
       "3      107      4.0      1.0  2020-06-28         1.0               0.0   \n",
       "4      107      4.0      1.0  2020-07-28         1.0               0.0   \n",
       "\n",
       "   307_repair_count  308_repair_count  309_repair_count  521_repair_count  \\\n",
       "0               0.0               0.0               0.0               0.0   \n",
       "1               0.0               0.0               0.0               0.0   \n",
       "2               0.0               0.0               0.0               0.0   \n",
       "3               0.0               0.0               0.0               0.0   \n",
       "4               0.0               1.0               0.0               0.0   \n",
       "\n",
       "   ...  тл-2к_y  тл-2к1  эд118а  эд118б  эдп810  эк-810ч  экг-8ж   power  \\\n",
       "0  ...      0.0     0.0     0.0     0.0     0.0      0.0     0.0  3250.0   \n",
       "1  ...      0.0     0.0     0.0     0.0     0.0      0.0     0.0  3250.0   \n",
       "2  ...      0.0     0.0     0.0     0.0     0.0      0.0     0.0  3080.0   \n",
       "3  ...      0.0     0.0     0.0     0.0     0.0      0.0     0.0  3080.0   \n",
       "4  ...      0.0     0.0     0.0     0.0     0.0      0.0     0.0  3080.0   \n",
       "\n",
       "   last_of_p_data  last_of_in_invent  \n",
       "0             0.0                0.0  \n",
       "1             0.0                0.0  \n",
       "2             0.0                0.0  \n",
       "3             6.0                6.0  \n",
       "4            10.0               10.0  \n",
       "\n",
       "[5 rows x 249 columns]"
      ]
     },
     "execution_count": 228,
     "metadata": {},
     "output_type": "execute_result"
    }
   ],
   "source": [
    "df.head()"
   ]
  },
  {
   "cell_type": "code",
   "execution_count": 229,
   "metadata": {},
   "outputs": [
    {
     "data": {
      "text/html": [
       "<div>\n",
       "<style scoped>\n",
       "    .dataframe tbody tr th:only-of-type {\n",
       "        vertical-align: middle;\n",
       "    }\n",
       "\n",
       "    .dataframe tbody tr th {\n",
       "        vertical-align: top;\n",
       "    }\n",
       "\n",
       "    .dataframe thead th {\n",
       "        text-align: right;\n",
       "    }\n",
       "</style>\n",
       "<table border=\"1\" class=\"dataframe\">\n",
       "  <thead>\n",
       "    <tr style=\"text-align: right;\">\n",
       "      <th></th>\n",
       "      <th>Unnamed: 0</th>\n",
       "      <th>ser_loc</th>\n",
       "      <th>zns_loc</th>\n",
       "      <th>prs_loc</th>\n",
       "      <th>year_month</th>\n",
       "      <th>fail_place</th>\n",
       "      <th>fail_reason</th>\n",
       "      <th>fail_type</th>\n",
       "      <th>day</th>\n",
       "    </tr>\n",
       "  </thead>\n",
       "  <tbody>\n",
       "    <tr>\n",
       "      <th>0</th>\n",
       "      <td>0</td>\n",
       "      <td>134</td>\n",
       "      <td>171.0</td>\n",
       "      <td>1.0</td>\n",
       "      <td>2021-01</td>\n",
       "      <td>Дуриан</td>\n",
       "      <td>Момордика</td>\n",
       "      <td>Мармеладный плод</td>\n",
       "      <td>12</td>\n",
       "    </tr>\n",
       "    <tr>\n",
       "      <th>1</th>\n",
       "      <td>3</td>\n",
       "      <td>134</td>\n",
       "      <td>166.0</td>\n",
       "      <td>1.0</td>\n",
       "      <td>2021-01</td>\n",
       "      <td>Маракуйя</td>\n",
       "      <td>Либерика</td>\n",
       "      <td>Салакка</td>\n",
       "      <td>12</td>\n",
       "    </tr>\n",
       "    <tr>\n",
       "      <th>2</th>\n",
       "      <td>4</td>\n",
       "      <td>240</td>\n",
       "      <td>1068.0</td>\n",
       "      <td>1.0</td>\n",
       "      <td>2021-01</td>\n",
       "      <td>Земляной орех</td>\n",
       "      <td>Абрикос</td>\n",
       "      <td>Пара-гуайява</td>\n",
       "      <td>5</td>\n",
       "    </tr>\n",
       "    <tr>\n",
       "      <th>3</th>\n",
       "      <td>7</td>\n",
       "      <td>240</td>\n",
       "      <td>2200.0</td>\n",
       "      <td>1.0</td>\n",
       "      <td>2021-01</td>\n",
       "      <td>Маракуйя</td>\n",
       "      <td>Гранат</td>\n",
       "      <td>Мармеладный плод</td>\n",
       "      <td>17</td>\n",
       "    </tr>\n",
       "    <tr>\n",
       "      <th>4</th>\n",
       "      <td>9</td>\n",
       "      <td>240</td>\n",
       "      <td>2734.0</td>\n",
       "      <td>1.0</td>\n",
       "      <td>2021-01</td>\n",
       "      <td>Земляной орех</td>\n",
       "      <td>Бананы</td>\n",
       "      <td>Гнетум гнемон</td>\n",
       "      <td>4</td>\n",
       "    </tr>\n",
       "  </tbody>\n",
       "</table>\n",
       "</div>"
      ],
      "text/plain": [
       "   Unnamed: 0  ser_loc  zns_loc  prs_loc year_month     fail_place  \\\n",
       "0           0      134    171.0      1.0    2021-01         Дуриан   \n",
       "1           3      134    166.0      1.0    2021-01       Маракуйя   \n",
       "2           4      240   1068.0      1.0    2021-01  Земляной орех   \n",
       "3           7      240   2200.0      1.0    2021-01       Маракуйя   \n",
       "4           9      240   2734.0      1.0    2021-01  Земляной орех   \n",
       "\n",
       "  fail_reason         fail_type  day  \n",
       "0   Момордика  Мармеладный плод   12  \n",
       "1    Либерика           Салакка   12  \n",
       "2     Абрикос      Пара-гуайява    5  \n",
       "3      Гранат  Мармеладный плод   17  \n",
       "4      Бананы     Гнетум гнемон    4  "
      ]
     },
     "execution_count": 229,
     "metadata": {},
     "output_type": "execute_result"
    }
   ],
   "source": [
    "goal.head()"
   ]
  },
  {
   "cell_type": "code",
   "execution_count": 230,
   "metadata": {},
   "outputs": [
    {
     "data": {
      "text/html": [
       "<div>\n",
       "<style scoped>\n",
       "    .dataframe tbody tr th:only-of-type {\n",
       "        vertical-align: middle;\n",
       "    }\n",
       "\n",
       "    .dataframe tbody tr th {\n",
       "        vertical-align: top;\n",
       "    }\n",
       "\n",
       "    .dataframe thead th {\n",
       "        text-align: right;\n",
       "    }\n",
       "</style>\n",
       "<table border=\"1\" class=\"dataframe\">\n",
       "  <thead>\n",
       "    <tr style=\"text-align: right;\">\n",
       "      <th></th>\n",
       "      <th>ser_loc</th>\n",
       "      <th>zns_loc</th>\n",
       "      <th>prs_loc</th>\n",
       "      <th>year_month</th>\n",
       "      <th>count_fail</th>\n",
       "      <th>107_repair_count</th>\n",
       "      <th>307_repair_count</th>\n",
       "      <th>308_repair_count</th>\n",
       "      <th>309_repair_count</th>\n",
       "      <th>521_repair_count</th>\n",
       "      <th>...</th>\n",
       "      <th>тл-2к_y</th>\n",
       "      <th>тл-2к1</th>\n",
       "      <th>эд118а</th>\n",
       "      <th>эд118б</th>\n",
       "      <th>эдп810</th>\n",
       "      <th>эк-810ч</th>\n",
       "      <th>экг-8ж</th>\n",
       "      <th>power</th>\n",
       "      <th>last_of_p_data</th>\n",
       "      <th>last_of_in_invent</th>\n",
       "    </tr>\n",
       "  </thead>\n",
       "  <tbody>\n",
       "    <tr>\n",
       "      <th>36451</th>\n",
       "      <td>145</td>\n",
       "      <td>1050.0</td>\n",
       "      <td>2.0</td>\n",
       "      <td>2021-08-28</td>\n",
       "      <td>0.0</td>\n",
       "      <td>0.0</td>\n",
       "      <td>0.0</td>\n",
       "      <td>1.0</td>\n",
       "      <td>0.0</td>\n",
       "      <td>0.0</td>\n",
       "      <td>...</td>\n",
       "      <td>NaN</td>\n",
       "      <td>NaN</td>\n",
       "      <td>NaN</td>\n",
       "      <td>NaN</td>\n",
       "      <td>NaN</td>\n",
       "      <td>NaN</td>\n",
       "      <td>NaN</td>\n",
       "      <td>NaN</td>\n",
       "      <td>NaN</td>\n",
       "      <td>NaN</td>\n",
       "    </tr>\n",
       "  </tbody>\n",
       "</table>\n",
       "<p>1 rows × 249 columns</p>\n",
       "</div>"
      ],
      "text/plain": [
       "       ser_loc  zns_loc  prs_loc  year_month  count_fail  107_repair_count  \\\n",
       "36451      145   1050.0      2.0  2021-08-28         0.0               0.0   \n",
       "\n",
       "       307_repair_count  308_repair_count  309_repair_count  521_repair_count  \\\n",
       "36451               0.0               1.0               0.0               0.0   \n",
       "\n",
       "       ...  тл-2к_y  тл-2к1  эд118а  эд118б  эдп810  эк-810ч  экг-8ж  power  \\\n",
       "36451  ...      NaN     NaN     NaN     NaN     NaN      NaN     NaN    NaN   \n",
       "\n",
       "       last_of_p_data  last_of_in_invent  \n",
       "36451             NaN                NaN  \n",
       "\n",
       "[1 rows x 249 columns]"
      ]
     },
     "execution_count": 230,
     "metadata": {},
     "output_type": "execute_result"
    }
   ],
   "source": [
    "df[df.isnull().any(1)]"
   ]
  },
  {
   "attachments": {},
   "cell_type": "markdown",
   "metadata": {},
   "source": [
    "В данных присутствует строка со значением NaN, избавимся от нее, а также дубликатов"
   ]
  },
  {
   "cell_type": "code",
   "execution_count": 231,
   "metadata": {},
   "outputs": [
    {
     "name": "stdout",
     "output_type": "stream",
     "text": [
      "36452 53039\n",
      "34888 53039\n"
     ]
    }
   ],
   "source": [
    "print(len(df), len(goal))\n",
    "goal.drop_duplicates(inplace=True)\n",
    "df.drop_duplicates(inplace=True)\n",
    "df = df.dropna()\n",
    "print(len(df), len(goal))"
   ]
  },
  {
   "cell_type": "code",
   "execution_count": 232,
   "metadata": {},
   "outputs": [
    {
     "data": {
      "text/plain": [
       "1343"
      ]
     },
     "execution_count": 232,
     "metadata": {},
     "output_type": "execute_result"
    }
   ],
   "source": [
    "goal = goal[goal['fail_place'] == 'Гуайява обыкновенная']\n",
    "\n",
    "len(goal)"
   ]
  },
  {
   "attachments": {},
   "cell_type": "markdown",
   "metadata": {},
   "source": [
    "выбираем необходимые для обучения данные"
   ]
  },
  {
   "cell_type": "code",
   "execution_count": 233,
   "metadata": {},
   "outputs": [
    {
     "data": {
      "text/html": [
       "<div>\n",
       "<style scoped>\n",
       "    .dataframe tbody tr th:only-of-type {\n",
       "        vertical-align: middle;\n",
       "    }\n",
       "\n",
       "    .dataframe tbody tr th {\n",
       "        vertical-align: top;\n",
       "    }\n",
       "\n",
       "    .dataframe thead th {\n",
       "        text-align: right;\n",
       "    }\n",
       "</style>\n",
       "<table border=\"1\" class=\"dataframe\">\n",
       "  <thead>\n",
       "    <tr style=\"text-align: right;\">\n",
       "      <th></th>\n",
       "      <th>ser_loc</th>\n",
       "      <th>zns_loc</th>\n",
       "      <th>prs_loc</th>\n",
       "      <th>year_month</th>\n",
       "      <th>count_fail</th>\n",
       "      <th>107_repair_count</th>\n",
       "      <th>307_repair_count</th>\n",
       "      <th>308_repair_count</th>\n",
       "      <th>309_repair_count</th>\n",
       "      <th>521_repair_count</th>\n",
       "      <th>...</th>\n",
       "      <th>тл-2к_y</th>\n",
       "      <th>тл-2к1</th>\n",
       "      <th>эд118а</th>\n",
       "      <th>эд118б</th>\n",
       "      <th>эдп810</th>\n",
       "      <th>эк-810ч</th>\n",
       "      <th>экг-8ж</th>\n",
       "      <th>power</th>\n",
       "      <th>last_of_p_data</th>\n",
       "      <th>last_of_in_invent</th>\n",
       "    </tr>\n",
       "  </thead>\n",
       "  <tbody>\n",
       "    <tr>\n",
       "      <th>0</th>\n",
       "      <td>107</td>\n",
       "      <td>3.0</td>\n",
       "      <td>1.0</td>\n",
       "      <td>2020-01</td>\n",
       "      <td>1.0</td>\n",
       "      <td>0.0</td>\n",
       "      <td>0.0</td>\n",
       "      <td>0.0</td>\n",
       "      <td>0.0</td>\n",
       "      <td>0.0</td>\n",
       "      <td>...</td>\n",
       "      <td>0.0</td>\n",
       "      <td>0.0</td>\n",
       "      <td>0.0</td>\n",
       "      <td>0.0</td>\n",
       "      <td>0.0</td>\n",
       "      <td>0.0</td>\n",
       "      <td>0.0</td>\n",
       "      <td>3250.0</td>\n",
       "      <td>0.0</td>\n",
       "      <td>0.0</td>\n",
       "    </tr>\n",
       "    <tr>\n",
       "      <th>1</th>\n",
       "      <td>107</td>\n",
       "      <td>3.0</td>\n",
       "      <td>1.0</td>\n",
       "      <td>2019-03</td>\n",
       "      <td>1.0</td>\n",
       "      <td>0.0</td>\n",
       "      <td>0.0</td>\n",
       "      <td>0.0</td>\n",
       "      <td>0.0</td>\n",
       "      <td>0.0</td>\n",
       "      <td>...</td>\n",
       "      <td>0.0</td>\n",
       "      <td>0.0</td>\n",
       "      <td>0.0</td>\n",
       "      <td>0.0</td>\n",
       "      <td>0.0</td>\n",
       "      <td>0.0</td>\n",
       "      <td>0.0</td>\n",
       "      <td>3250.0</td>\n",
       "      <td>0.0</td>\n",
       "      <td>0.0</td>\n",
       "    </tr>\n",
       "    <tr>\n",
       "      <th>2</th>\n",
       "      <td>107</td>\n",
       "      <td>4.0</td>\n",
       "      <td>1.0</td>\n",
       "      <td>2020-04</td>\n",
       "      <td>1.0</td>\n",
       "      <td>0.0</td>\n",
       "      <td>0.0</td>\n",
       "      <td>0.0</td>\n",
       "      <td>0.0</td>\n",
       "      <td>0.0</td>\n",
       "      <td>...</td>\n",
       "      <td>0.0</td>\n",
       "      <td>0.0</td>\n",
       "      <td>0.0</td>\n",
       "      <td>0.0</td>\n",
       "      <td>0.0</td>\n",
       "      <td>0.0</td>\n",
       "      <td>0.0</td>\n",
       "      <td>3080.0</td>\n",
       "      <td>0.0</td>\n",
       "      <td>0.0</td>\n",
       "    </tr>\n",
       "    <tr>\n",
       "      <th>3</th>\n",
       "      <td>107</td>\n",
       "      <td>4.0</td>\n",
       "      <td>1.0</td>\n",
       "      <td>2020-06</td>\n",
       "      <td>1.0</td>\n",
       "      <td>0.0</td>\n",
       "      <td>0.0</td>\n",
       "      <td>0.0</td>\n",
       "      <td>0.0</td>\n",
       "      <td>0.0</td>\n",
       "      <td>...</td>\n",
       "      <td>0.0</td>\n",
       "      <td>0.0</td>\n",
       "      <td>0.0</td>\n",
       "      <td>0.0</td>\n",
       "      <td>0.0</td>\n",
       "      <td>0.0</td>\n",
       "      <td>0.0</td>\n",
       "      <td>3080.0</td>\n",
       "      <td>6.0</td>\n",
       "      <td>6.0</td>\n",
       "    </tr>\n",
       "    <tr>\n",
       "      <th>4</th>\n",
       "      <td>107</td>\n",
       "      <td>4.0</td>\n",
       "      <td>1.0</td>\n",
       "      <td>2020-07</td>\n",
       "      <td>1.0</td>\n",
       "      <td>0.0</td>\n",
       "      <td>0.0</td>\n",
       "      <td>1.0</td>\n",
       "      <td>0.0</td>\n",
       "      <td>0.0</td>\n",
       "      <td>...</td>\n",
       "      <td>0.0</td>\n",
       "      <td>0.0</td>\n",
       "      <td>0.0</td>\n",
       "      <td>0.0</td>\n",
       "      <td>0.0</td>\n",
       "      <td>0.0</td>\n",
       "      <td>0.0</td>\n",
       "      <td>3080.0</td>\n",
       "      <td>10.0</td>\n",
       "      <td>10.0</td>\n",
       "    </tr>\n",
       "  </tbody>\n",
       "</table>\n",
       "<p>5 rows × 249 columns</p>\n",
       "</div>"
      ],
      "text/plain": [
       "   ser_loc  zns_loc  prs_loc year_month  count_fail  107_repair_count  \\\n",
       "0      107      3.0      1.0    2020-01         1.0               0.0   \n",
       "1      107      3.0      1.0    2019-03         1.0               0.0   \n",
       "2      107      4.0      1.0    2020-04         1.0               0.0   \n",
       "3      107      4.0      1.0    2020-06         1.0               0.0   \n",
       "4      107      4.0      1.0    2020-07         1.0               0.0   \n",
       "\n",
       "   307_repair_count  308_repair_count  309_repair_count  521_repair_count  \\\n",
       "0               0.0               0.0               0.0               0.0   \n",
       "1               0.0               0.0               0.0               0.0   \n",
       "2               0.0               0.0               0.0               0.0   \n",
       "3               0.0               0.0               0.0               0.0   \n",
       "4               0.0               1.0               0.0               0.0   \n",
       "\n",
       "   ...  тл-2к_y  тл-2к1  эд118а  эд118б  эдп810  эк-810ч  экг-8ж   power  \\\n",
       "0  ...      0.0     0.0     0.0     0.0     0.0      0.0     0.0  3250.0   \n",
       "1  ...      0.0     0.0     0.0     0.0     0.0      0.0     0.0  3250.0   \n",
       "2  ...      0.0     0.0     0.0     0.0     0.0      0.0     0.0  3080.0   \n",
       "3  ...      0.0     0.0     0.0     0.0     0.0      0.0     0.0  3080.0   \n",
       "4  ...      0.0     0.0     0.0     0.0     0.0      0.0     0.0  3080.0   \n",
       "\n",
       "   last_of_p_data  last_of_in_invent  \n",
       "0             0.0                0.0  \n",
       "1             0.0                0.0  \n",
       "2             0.0                0.0  \n",
       "3             6.0                6.0  \n",
       "4            10.0               10.0  \n",
       "\n",
       "[5 rows x 249 columns]"
      ]
     },
     "execution_count": 233,
     "metadata": {},
     "output_type": "execute_result"
    }
   ],
   "source": [
    "goal = goal[['ser_loc','zns_loc','prs_loc','year_month', 'day']]\n",
    "goal['day'] = goal['day'].astype(int)\n",
    "df.head()\n",
    "\n",
    "df['year_month'] = pd.to_datetime(df['year_month'], format='%Y-%m')\n",
    "goal['year_month'] = pd.to_datetime(goal['year_month'], format='%Y-%m')\n",
    "\n",
    "df['year_month'] = df['year_month'].dt.to_period('M')\n",
    "goal['year_month'] = goal['year_month'].dt.to_period('M')\n",
    "\n",
    "df.head()"
   ]
  },
  {
   "attachments": {},
   "cell_type": "markdown",
   "metadata": {},
   "source": [
    "объеденяем записи и удаляем не используемые столбцы "
   ]
  },
  {
   "cell_type": "code",
   "execution_count": 234,
   "metadata": {},
   "outputs": [],
   "source": [
    "df_main = goal.merge(df, on = ['ser_loc','zns_loc','prs_loc','year_month'], how = 'outer')\n",
    "\n",
    "df_main = df_main.dropna(subset = ['count_fail'])\n",
    "\n",
    "df_main = df_main.drop(columns=['date_repair_finish_y_1',\n",
    "       'date_repair_finish_x_2',\n",
    "       'date_repair_finish_y_2', 'date_repair_finish', \n",
    "       'date_repair_finish_x_1',])"
   ]
  },
  {
   "cell_type": "code",
   "execution_count": 235,
   "metadata": {},
   "outputs": [],
   "source": [
    "df_main['day'] = [1 if x > 0 or None else 0 for x in df_main['day']]\n",
    "\n",
    "df_main = df_main.set_index(['ser_loc','zns_loc','prs_loc','year_month'])"
   ]
  },
  {
   "cell_type": "code",
   "execution_count": 236,
   "metadata": {},
   "outputs": [
    {
     "data": {
      "text/plain": [
       "0    34859\n",
       "1       33\n",
       "Name: day, dtype: int64"
      ]
     },
     "execution_count": 236,
     "metadata": {},
     "output_type": "execute_result"
    }
   ],
   "source": [
    "df_main['day'].value_counts()"
   ]
  },
  {
   "attachments": {},
   "cell_type": "markdown",
   "metadata": {},
   "source": [
    "Нормализация данных"
   ]
  },
  {
   "cell_type": "code",
   "execution_count": 237,
   "metadata": {},
   "outputs": [],
   "source": [
    "scaler = preprocessing.MinMaxScaler()\n",
    "d_scaler = scaler.fit_transform(df_main)\n",
    "df_main = pd.DataFrame(d_scaler,columns = df_main.columns)\n",
    "\n",
    "x = df_main.drop(columns=['day'])\n",
    "y = df_main['day']"
   ]
  },
  {
   "attachments": {},
   "cell_type": "markdown",
   "metadata": {},
   "source": [
    "балансировка разделение данных на тренеровочную и тестовую"
   ]
  },
  {
   "cell_type": "code",
   "execution_count": 238,
   "metadata": {},
   "outputs": [],
   "source": [
    "\n",
    "sm = SMOTE( k_neighbors=10, )\n",
    "x_res, y_res = sm.fit_resample(x, y)\n",
    "\n",
    "x_train, x_test, y_train, y_test = model_selection.train_test_split(x_res, y_res, test_size=0.1)"
   ]
  },
  {
   "attachments": {},
   "cell_type": "markdown",
   "metadata": {},
   "source": [
    "применение модели классификации "
   ]
  },
  {
   "cell_type": "code",
   "execution_count": 239,
   "metadata": {},
   "outputs": [],
   "source": [
    "clf = CatBoostClassifier(\n",
    "    iterations=100, \n",
    "    learning_rate=0.3, \n",
    "    loss_function='CrossEntropy',\n",
    ")"
   ]
  },
  {
   "cell_type": "code",
   "execution_count": 240,
   "metadata": {},
   "outputs": [
    {
     "data": {
      "text/plain": [
       "<catboost.core.CatBoostClassifier at 0x1dcccd2ce50>"
      ]
     },
     "execution_count": 240,
     "metadata": {},
     "output_type": "execute_result"
    }
   ],
   "source": [
    "clf.fit(x_train, y_train,         \n",
    "        eval_set=(x, y), \n",
    "        verbose=False\n",
    ")"
   ]
  },
  {
   "attachments": {},
   "cell_type": "markdown",
   "metadata": {},
   "source": [
    "строим матрицу ошибок на тестовой выборке"
   ]
  },
  {
   "cell_type": "code",
   "execution_count": 241,
   "metadata": {},
   "outputs": [
    {
     "data": {
      "image/png": "[encoded data removed]",
      "text/plain": [
       "<Figure size 800x550 with 2 Axes>"
      ]
     },
     "metadata": {},
     "output_type": "display_data"
    }
   ],
   "source": [
    "сonfus_m = confusion_matrix(y_test, clf.predict(x_test), labels=clf.classes_)\n",
    "disp = ConfusionMatrixDisplay(confusion_matrix=сonfus_m,\n",
    "                              display_labels=clf.classes_)\n",
    "disp.plot()\n",
    "plt.show()"
   ]
  },
  {
   "attachments": {},
   "cell_type": "markdown",
   "metadata": {},
   "source": [
    "строим матрицу ошибок на основной выборке"
   ]
  },
  {
   "cell_type": "code",
   "execution_count": 242,
   "metadata": {},
   "outputs": [
    {
     "data": {
      "image/png": "[encoded data removed]",
      "text/plain": [
       "<Figure size 800x550 with 2 Axes>"
      ]
     },
     "metadata": {},
     "output_type": "display_data"
    }
   ],
   "source": [
    "сonfus_m = confusion_matrix(y, clf.predict(x), labels=clf.classes_)\n",
    "disp = ConfusionMatrixDisplay(confusion_matrix=сonfus_m,\n",
    "                              display_labels=clf.classes_)\n",
    "disp.plot()\n",
    "plt.show()"
   ]
  },
  {
   "attachments": {},
   "cell_type": "markdown",
   "metadata": {},
   "source": [
    "исходя из просмотра визуализаций можно предпроложить что точность предсказаний достаточно велико, оценим качество модели при помощи `f1_score`"
   ]
  },
  {
   "attachments": {},
   "cell_type": "markdown",
   "metadata": {},
   "source": [
    "используем собственную функцию"
   ]
  },
  {
   "cell_type": "code",
   "execution_count": 243,
   "metadata": {},
   "outputs": [
    {
     "data": {
      "text/plain": [
       "0.7666666666666667"
      ]
     },
     "execution_count": 243,
     "metadata": {},
     "output_type": "execute_result"
    }
   ],
   "source": [
    "def f1_score(y , x , clf):\n",
    "    tn, fp, fn, tp = confusion_matrix(y, clf.predict(x), labels=clf.classes_).ravel()\n",
    "    precission = tp / (tp + fp)\n",
    "    recall = tp / (tp + fn)\n",
    "    return 2 * (precission * recall) / (precission + recall)\n",
    "\n",
    "f1_score( y, x , clf)"
   ]
  },
  {
   "attachments": {},
   "cell_type": "markdown",
   "metadata": {},
   "source": [
    "используем функцию из `sklearn.metrics`"
   ]
  },
  {
   "cell_type": "code",
   "execution_count": 244,
   "metadata": {},
   "outputs": [
    {
     "data": {
      "text/plain": [
       "0.7666666666666667"
      ]
     },
     "execution_count": 244,
     "metadata": {},
     "output_type": "execute_result"
    }
   ],
   "source": [
    "from sklearn.metrics import f1_score as sk_f1_score\n",
    "sk_f1_score(y, clf.predict(x))"
   ]
  }
 ],
 "metadata": {
  "kernelspec": {
   "display_name": "base",
   "language": "python",
   "name": "python3"
  },
  "language_info": {
   "codemirror_mode": {
    "name": "ipython",
    "version": 3
   },
   "file_extension": ".py",
   "mimetype": "text/x-python",
   "name": "python",
   "nbconvert_exporter": "python",
   "pygments_lexer": "ipython3",
   "version": "3.9.15"
  },
  "orig_nbformat": 4,
  "vscode": {
   "interpreter": {
    "hash": "9553dd649da6d806a91f18686597ba4591a31002d4fb1d1d65e2efff2034f7ad"
   }
  }
 },
 "nbformat": 4,
 "nbformat_minor": 2
}
